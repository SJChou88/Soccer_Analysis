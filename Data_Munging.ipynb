{
 "cells": [
  {
   "cell_type": "code",
   "execution_count": 5,
   "metadata": {
    "collapsed": true
   },
   "outputs": [],
   "source": [
    "import pandas as pd\n",
    "import numpy as np\n",
    "import json\n",
    "import seaborn as sns\n",
    "from seaborn import plt\n",
    "from sklearn.linear_model import LinearRegression\n",
    "from sklearn.model_selection import train_test_split\n",
    "from sklearn.linear_model import RidgeCV\n",
    "from sklearn.pipeline import make_pipeline\n",
    "from sklearn.preprocessing import PolynomialFeatures\n",
    "from sklearn.model_selection import KFold\n",
    "from sklearn.model_selection import KFold\n",
    "from sklearn import feature_selection as f_select\n",
    "import statsmodels.api as sm\n",
    "import statsmodels.formula.api as smf\n",
    "from sklearn.metrics import mean_squared_error\n",
    "import patsy\n",
    "\n",
    "%matplotlib inline"
   ]
  },
  {
   "cell_type": "code",
   "execution_count": 6,
   "metadata": {
    "collapsed": false
   },
   "outputs": [
    {
     "name": "stderr",
     "output_type": "stream",
     "text": [
      "/Users/stephenchou/anaconda/lib/python3.6/site-packages/ipykernel/__main__.py:14: FutureWarning: convert_objects is deprecated.  Use the data-type specific converters pd.to_datetime, pd.to_timedelta and pd.to_numeric.\n"
     ]
    }
   ],
   "source": [
    "file_path = 'transfermarkt/tables.json'\n",
    "with open(file_path) as json_data:\n",
    "    d = json.load(json_data)\n",
    "\n",
    "    data = []\n",
    "for row in d:\n",
    "    for k in row:\n",
    "        data.append(row[k])\n",
    "labels = ['Table','Position','Club','Club Short','GP','Wins','Draws','Losses','GFandGA','GD','Points']\n",
    "df = pd.DataFrame(data,columns=labels)\n",
    "df['GF']=df.GFandGA.str.split(':').str[0]\n",
    "df['GA']=df.GFandGA.str.split(':').str[1]\n",
    "df['Season']=df.Table.str.strip().str[-5:]\n",
    "df = df.convert_objects(convert_numeric=True)\n",
    "df['MaxP']=df.GP * 3\n",
    "df['CalcP']= df.Wins * 3 + df.Draws\n",
    "df['League']=df.Table.str[6:].str[:-7]"
   ]
  },
  {
   "cell_type": "code",
   "execution_count": 7,
   "metadata": {
    "collapsed": false
   },
   "outputs": [],
   "source": [
    "merge_df_columns = ['Position','Season','Club','Club Short','GF','GA','GD','MaxP','CalcP','League']\n",
    "merge_columns = ['Club','Season']\n",
    "merge_df = df[merge_df_columns]"
   ]
  },
  {
   "cell_type": "code",
   "execution_count": 8,
   "metadata": {
    "collapsed": false
   },
   "outputs": [],
   "source": [
    "#transfer_file_path = 'transfermarkt/transfers_old.json'\n",
    "transfer_file_path = 'transfermarkt/transfers.json'\n",
    "with open(transfer_file_path) as json_data_transfer:\n",
    "    d2 = json.load(json_data_transfer)\n",
    "    data2 = []\n",
    "for row in d2:\n",
    "    for k in row:\n",
    "        data2.append(row[k])\n",
    "        \n",
    "labels_transfer = ['Category','Club','Player','LongOtherClub','OtherClub','Fee']\n",
    "transfer_df = pd.DataFrame(data2,columns=labels_transfer)\n",
    "transfer_df['Direction']=transfer_df['Category'].str.strip().str.split(' ').str[0]\n",
    "transfer_df['Season']=transfer_df['Category'].str.strip().str.split(' ').str[1]"
   ]
  },
  {
   "cell_type": "code",
   "execution_count": 9,
   "metadata": {
    "collapsed": false
   },
   "outputs": [],
   "source": [
    "transfer_df['Num']=0\n",
    "transfer_df['Num']= transfer_df['Fee'].str.replace(',','.').str.replace(\"'\",'').str.extract('^(\\d+(.\\d{2,3})*)',expand=True).astype(float)"
   ]
  },
  {
   "cell_type": "code",
   "execution_count": 10,
   "metadata": {
    "collapsed": false
   },
   "outputs": [],
   "source": [
    "transfer_df=transfer_df.fillna(0)\n",
    "transfer_df['Mult']=np.where(transfer_df['Fee'].str.contains('Mill').fillna(False), 1000000, np.where(transfer_df['Fee'].str.contains('Th').fillna(False),1000,0))\n",
    "transfer_df['NumFee']=transfer_df.Num * transfer_df.Mult"
   ]
  },
  {
   "cell_type": "code",
   "execution_count": 11,
   "metadata": {
    "collapsed": false
   },
   "outputs": [],
   "source": [
    "#interpret end of loan and Loan as the same thing.\n",
    "transfer_df['Loan']=np.where(transfer_df['Fee'].str.lower().str.contains('loan').fillna(False), 1,0)\n",
    "#If not loan and NumFee = 0, then free = 1\n",
    "transfer_df['Free']=np.where((transfer_df['Loan']==0) & (transfer_df['NumFee']==0), 1,0)"
   ]
  },
  {
   "cell_type": "code",
   "execution_count": 12,
   "metadata": {
    "collapsed": false
   },
   "outputs": [],
   "source": [
    "merge_t_df = transfer_df.groupby(['Club','Season','Direction'])['NumFee'].agg(['sum', 'count'])\n",
    "merge_t_2= merge_t_df.unstack('Direction')\n",
    "merge_t_3= merge_t_2.reset_index()\n",
    "merge_t_3.columns = ['Club','Season','Arrival_Sum','Departure_Sum','Arrival_Count','Departure_Count']\n",
    "\n",
    "merge_t2_df = transfer_df.groupby(['Club','Season','Direction'])['Loan','Free'].agg(['sum'])\n",
    "merge_t3_df= merge_t2_df.unstack('Direction')\n",
    "merge_t3_df= merge_t3_df.reset_index()\n",
    "merge_t3_df.columns = ['Club','Season','Arrival_Loan','Departure_Loan','Arrival_Free','Departure_Free']\n"
   ]
  },
  {
   "cell_type": "code",
   "execution_count": 13,
   "metadata": {
    "collapsed": false
   },
   "outputs": [],
   "source": [
    "transfer_df_mr=pd.merge(merge_t_3,merge_t3_df,on=(['Club','Season']))"
   ]
  },
  {
   "cell_type": "code",
   "execution_count": 14,
   "metadata": {
    "collapsed": false
   },
   "outputs": [],
   "source": [
    "complete_df = pd.merge(merge_df, transfer_df_mr, on=(['Club','Season']), how='left')"
   ]
  },
  {
   "cell_type": "code",
   "execution_count": 15,
   "metadata": {
    "collapsed": true
   },
   "outputs": [],
   "source": [
    "complete_df[[\"PREV_GF\", \"PREV_GA\", \"PREV_GD\",\"PREV_MAXP\",\"PREV_CALCP\"]] = (complete_df\n",
    "                                                       .groupby([\"Club\"])[\"GF\",\"GA\",\"GD\",\"MaxP\",\"CalcP\"]\n",
    "                                                       .transform(lambda grp: grp.shift(1)))"
   ]
  },
  {
   "cell_type": "code",
   "execution_count": 16,
   "metadata": {
    "collapsed": false
   },
   "outputs": [],
   "source": [
    "complete_df['Arrival_Paid']= complete_df['Arrival_Count'] - complete_df['Arrival_Loan']- complete_df['Arrival_Free']\n",
    "complete_df['Departure_Paid']= complete_df['Departure_Count'] - complete_df['Departure_Loan']- complete_df['Departure_Free']\n",
    "complete_df['Net_Spend']= complete_df['Arrival_Sum'] - complete_df['Departure_Sum']\n",
    "complete_df['Year']=(np.where(complete_df['Season'].str[0:1]=='9','19','20')+complete_df['Season'].str[:2]).astype(int)"
   ]
  },
  {
   "cell_type": "code",
   "execution_count": 17,
   "metadata": {
    "collapsed": false
   },
   "outputs": [],
   "source": [
    "complete_dna_df = complete_df.dropna()\n",
    "league=patsy.dmatrix('League',data=complete_dna_df,return_type='dataframe')\n",
    "#strip columns\n",
    "complete_dna_df=complete_dna_df.join(league)"
   ]
  },
  {
   "cell_type": "code",
   "execution_count": 18,
   "metadata": {
    "collapsed": true
   },
   "outputs": [],
   "source": [
    "complete_dna_df.to_pickle('merged_soccer_data.pkl')"
   ]
  }
 ],
 "metadata": {
  "kernelspec": {
   "display_name": "Python 3",
   "language": "python",
   "name": "python3"
  },
  "language_info": {
   "codemirror_mode": {
    "name": "ipython",
    "version": 3
   },
   "file_extension": ".py",
   "mimetype": "text/x-python",
   "name": "python",
   "nbconvert_exporter": "python",
   "pygments_lexer": "ipython3",
   "version": "3.6.0"
  }
 },
 "nbformat": 4,
 "nbformat_minor": 2
}
